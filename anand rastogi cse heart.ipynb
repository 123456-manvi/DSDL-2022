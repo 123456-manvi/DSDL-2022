{
 "cells": [
  {
   "cell_type": "code",
   "execution_count": 38,
   "id": "851a4e3e",
   "metadata": {},
   "outputs": [],
   "source": [
    "import pandas as pd\n",
    "import numpy as np\n",
    "import seaborn as sns\n",
    "\n",
    "     "
   ]
  },
  {
   "cell_type": "code",
   "execution_count": 39,
   "id": "f84b2cac",
   "metadata": {},
   "outputs": [],
   "source": [
    "data=pd.read_csv(\"heart.csv\")"
   ]
  },
  {
   "cell_type": "code",
   "execution_count": 40,
   "id": "669f489e",
   "metadata": {},
   "outputs": [
    {
     "data": {
      "text/html": [
       "<div>\n",
       "<style scoped>\n",
       "    .dataframe tbody tr th:only-of-type {\n",
       "        vertical-align: middle;\n",
       "    }\n",
       "\n",
       "    .dataframe tbody tr th {\n",
       "        vertical-align: top;\n",
       "    }\n",
       "\n",
       "    .dataframe thead th {\n",
       "        text-align: right;\n",
       "    }\n",
       "</style>\n",
       "<table border=\"1\" class=\"dataframe\">\n",
       "  <thead>\n",
       "    <tr style=\"text-align: right;\">\n",
       "      <th></th>\n",
       "      <th>Age</th>\n",
       "      <th>Sex</th>\n",
       "      <th>ChestPainType</th>\n",
       "      <th>RestingBP</th>\n",
       "      <th>Cholesterol</th>\n",
       "      <th>FastingBS</th>\n",
       "      <th>RestingECG</th>\n",
       "      <th>MaxHR</th>\n",
       "      <th>ExerciseAngina</th>\n",
       "      <th>Oldpeak</th>\n",
       "      <th>ST_Slope</th>\n",
       "      <th>HeartDisease</th>\n",
       "    </tr>\n",
       "  </thead>\n",
       "  <tbody>\n",
       "    <tr>\n",
       "      <th>0</th>\n",
       "      <td>40</td>\n",
       "      <td>M</td>\n",
       "      <td>ATA</td>\n",
       "      <td>140</td>\n",
       "      <td>289</td>\n",
       "      <td>0</td>\n",
       "      <td>Normal</td>\n",
       "      <td>172</td>\n",
       "      <td>N</td>\n",
       "      <td>0.0</td>\n",
       "      <td>Up</td>\n",
       "      <td>0</td>\n",
       "    </tr>\n",
       "    <tr>\n",
       "      <th>1</th>\n",
       "      <td>49</td>\n",
       "      <td>F</td>\n",
       "      <td>NAP</td>\n",
       "      <td>160</td>\n",
       "      <td>180</td>\n",
       "      <td>0</td>\n",
       "      <td>Normal</td>\n",
       "      <td>156</td>\n",
       "      <td>N</td>\n",
       "      <td>1.0</td>\n",
       "      <td>Flat</td>\n",
       "      <td>1</td>\n",
       "    </tr>\n",
       "    <tr>\n",
       "      <th>2</th>\n",
       "      <td>37</td>\n",
       "      <td>M</td>\n",
       "      <td>ATA</td>\n",
       "      <td>130</td>\n",
       "      <td>283</td>\n",
       "      <td>0</td>\n",
       "      <td>ST</td>\n",
       "      <td>98</td>\n",
       "      <td>N</td>\n",
       "      <td>0.0</td>\n",
       "      <td>Up</td>\n",
       "      <td>0</td>\n",
       "    </tr>\n",
       "    <tr>\n",
       "      <th>3</th>\n",
       "      <td>48</td>\n",
       "      <td>F</td>\n",
       "      <td>ASY</td>\n",
       "      <td>138</td>\n",
       "      <td>214</td>\n",
       "      <td>0</td>\n",
       "      <td>Normal</td>\n",
       "      <td>108</td>\n",
       "      <td>Y</td>\n",
       "      <td>1.5</td>\n",
       "      <td>Flat</td>\n",
       "      <td>1</td>\n",
       "    </tr>\n",
       "    <tr>\n",
       "      <th>4</th>\n",
       "      <td>54</td>\n",
       "      <td>M</td>\n",
       "      <td>NAP</td>\n",
       "      <td>150</td>\n",
       "      <td>195</td>\n",
       "      <td>0</td>\n",
       "      <td>Normal</td>\n",
       "      <td>122</td>\n",
       "      <td>N</td>\n",
       "      <td>0.0</td>\n",
       "      <td>Up</td>\n",
       "      <td>0</td>\n",
       "    </tr>\n",
       "  </tbody>\n",
       "</table>\n",
       "</div>"
      ],
      "text/plain": [
       "   Age Sex ChestPainType  RestingBP  Cholesterol  FastingBS RestingECG  MaxHR  \\\n",
       "0   40   M           ATA        140          289          0     Normal    172   \n",
       "1   49   F           NAP        160          180          0     Normal    156   \n",
       "2   37   M           ATA        130          283          0         ST     98   \n",
       "3   48   F           ASY        138          214          0     Normal    108   \n",
       "4   54   M           NAP        150          195          0     Normal    122   \n",
       "\n",
       "  ExerciseAngina  Oldpeak ST_Slope  HeartDisease  \n",
       "0              N      0.0       Up             0  \n",
       "1              N      1.0     Flat             1  \n",
       "2              N      0.0       Up             0  \n",
       "3              Y      1.5     Flat             1  \n",
       "4              N      0.0       Up             0  "
      ]
     },
     "execution_count": 40,
     "metadata": {},
     "output_type": "execute_result"
    }
   ],
   "source": [
    "data.head()"
   ]
  },
  {
   "cell_type": "code",
   "execution_count": 41,
   "id": "debf4aa3",
   "metadata": {},
   "outputs": [],
   "source": [
    "from matplotlib import pyplot as plt"
   ]
  },
  {
   "cell_type": "code",
   "execution_count": 42,
   "id": "1e48dca2",
   "metadata": {},
   "outputs": [],
   "source": [
    "import seaborn as sns"
   ]
  },
  {
   "cell_type": "code",
   "execution_count": 43,
   "id": "7f66d59a",
   "metadata": {},
   "outputs": [
    {
     "data": {
      "image/png": "[encoded data removed]",
      "text/plain": [
       "<Figure size 640x480 with 1 Axes>"
      ]
     },
     "metadata": {},
     "output_type": "display_data"
    }
   ],
   "source": [
    "sns.scatterplot(x='Age',y='RestingBP',data=data)\n",
    "plt.show()"
   ]
  },
  {
   "cell_type": "code",
   "execution_count": 44,
   "id": "6a75b1a4",
   "metadata": {},
   "outputs": [],
   "source": [
    "y=data[['RestingBP']]"
   ]
  },
  {
   "cell_type": "code",
   "execution_count": 45,
   "id": "78207058",
   "metadata": {},
   "outputs": [],
   "source": [
    "x=data[['Age']]"
   ]
  },
  {
   "cell_type": "code",
   "execution_count": 46,
   "id": "9d5bcc41",
   "metadata": {},
   "outputs": [],
   "source": [
    "from sklearn.model_selection import train_test_split\n",
    "     "
   ]
  },
  {
   "cell_type": "code",
   "execution_count": 47,
   "id": "d442d85f",
   "metadata": {},
   "outputs": [],
   "source": [
    "x_train,x_test,y_train,y_test=train_test_split(x,y,test_size=0.3)"
   ]
  },
  {
   "cell_type": "code",
   "execution_count": 48,
   "id": "84719de8",
   "metadata": {},
   "outputs": [],
   "source": [
    "from sklearn.linear_model import LinearRegression"
   ]
  },
  {
   "cell_type": "code",
   "execution_count": 49,
   "id": "7ed756b5",
   "metadata": {},
   "outputs": [],
   "source": [
    "lr=LinearRegression()"
   ]
  },
  {
   "cell_type": "code",
   "execution_count": 50,
   "id": "9db3b9fe",
   "metadata": {},
   "outputs": [
    {
     "data": {
      "text/plain": [
       "LinearRegression()"
      ]
     },
     "execution_count": 50,
     "metadata": {},
     "output_type": "execute_result"
    }
   ],
   "source": [
    "lr.fit(x_train,y_train)\n",
    "     "
   ]
  },
  {
   "cell_type": "code",
   "execution_count": 51,
   "id": "6caeb6ea",
   "metadata": {},
   "outputs": [],
   "source": [
    "y_pred=lr.predict(x_test)"
   ]
  },
  {
   "cell_type": "code",
   "execution_count": 52,
   "id": "6f4c937f",
   "metadata": {},
   "outputs": [
    {
     "data": {
      "text/plain": [
       "array([[134.56986357],\n",
       "       [134.12491217],\n",
       "       [135.90471776],\n",
       "       [135.90471776],\n",
       "       [131.45520378],\n",
       "       [130.56530098],\n",
       "       [132.79005797],\n",
       "       [129.67539819],\n",
       "       [138.12947475],\n",
       "       [139.01937755],\n",
       "       [135.45976636],\n",
       "       [140.79918314],\n",
       "       [131.90015518],\n",
       "       [129.67539819],\n",
       "       [131.90015518],\n",
       "       [134.12491217],\n",
       "       [134.12491217],\n",
       "       [135.45976636],\n",
       "       [131.01025238],\n",
       "       [139.01937755],\n",
       "       [136.34966916],\n",
       "       [135.01481496],\n",
       "       [134.12491217],\n",
       "       [131.90015518],\n",
       "       [131.90015518],\n",
       "       [128.34054399],\n",
       "       [132.79005797],\n",
       "       [125.2258842 ],\n",
       "       [135.01481496],\n",
       "       [136.34966916],\n",
       "       [131.01025238],\n",
       "       [129.67539819],\n",
       "       [136.34966916],\n",
       "       [134.56986357],\n",
       "       [132.34510657],\n",
       "       [136.79462056],\n",
       "       [133.67996077],\n",
       "       [129.67539819],\n",
       "       [134.12491217],\n",
       "       [132.79005797],\n",
       "       [136.34966916],\n",
       "       [130.56530098],\n",
       "       [133.67996077],\n",
       "       [132.34510657],\n",
       "       [133.67996077],\n",
       "       [135.01481496],\n",
       "       [130.12034958],\n",
       "       [134.12491217],\n",
       "       [131.45520378],\n",
       "       [131.01025238],\n",
       "       [139.46432895],\n",
       "       [124.7809328 ],\n",
       "       [136.79462056],\n",
       "       [134.12491217],\n",
       "       [128.34054399],\n",
       "       [129.67539819],\n",
       "       [133.23500937],\n",
       "       [136.34966916],\n",
       "       [128.34054399],\n",
       "       [132.79005797],\n",
       "       [133.23500937],\n",
       "       [134.56986357],\n",
       "       [132.79005797],\n",
       "       [139.90928034],\n",
       "       [122.55617581],\n",
       "       [139.01937755],\n",
       "       [138.12947475],\n",
       "       [131.90015518],\n",
       "       [136.34966916],\n",
       "       [134.12491217],\n",
       "       [134.56986357],\n",
       "       [133.67996077],\n",
       "       [135.45976636],\n",
       "       [130.12034958],\n",
       "       [135.90471776],\n",
       "       [131.01025238],\n",
       "       [127.45064119],\n",
       "       [127.45064119],\n",
       "       [132.34510657],\n",
       "       [128.78549539],\n",
       "       [135.90471776],\n",
       "       [133.23500937],\n",
       "       [135.45976636],\n",
       "       [133.23500937],\n",
       "       [131.01025238],\n",
       "       [134.56986357],\n",
       "       [127.45064119],\n",
       "       [137.23957196],\n",
       "       [135.45976636],\n",
       "       [134.12491217],\n",
       "       [134.12491217],\n",
       "       [135.01481496],\n",
       "       [127.89559259],\n",
       "       [132.34510657],\n",
       "       [122.55617581],\n",
       "       [130.56530098],\n",
       "       [138.57442615],\n",
       "       [129.67539819],\n",
       "       [127.45064119],\n",
       "       [139.90928034],\n",
       "       [131.45520378],\n",
       "       [133.67996077],\n",
       "       [132.34510657],\n",
       "       [135.90471776],\n",
       "       [131.01025238],\n",
       "       [131.45520378],\n",
       "       [136.79462056],\n",
       "       [134.56986357],\n",
       "       [131.01025238],\n",
       "       [130.12034958],\n",
       "       [135.45976636],\n",
       "       [125.2258842 ],\n",
       "       [135.45976636],\n",
       "       [122.55617581],\n",
       "       [132.34510657],\n",
       "       [132.79005797],\n",
       "       [134.56986357],\n",
       "       [129.67539819],\n",
       "       [135.90471776],\n",
       "       [134.12491217],\n",
       "       [131.90015518],\n",
       "       [131.45520378],\n",
       "       [130.12034958],\n",
       "       [132.79005797],\n",
       "       [136.34966916],\n",
       "       [124.7809328 ],\n",
       "       [128.78549539],\n",
       "       [125.2258842 ],\n",
       "       [131.90015518],\n",
       "       [132.34510657],\n",
       "       [136.34966916],\n",
       "       [133.23500937],\n",
       "       [131.45520378],\n",
       "       [135.01481496],\n",
       "       [135.01481496],\n",
       "       [130.56530098],\n",
       "       [131.45520378],\n",
       "       [126.115787  ],\n",
       "       [129.67539819],\n",
       "       [139.01937755],\n",
       "       [129.23044679],\n",
       "       [136.79462056],\n",
       "       [137.23957196],\n",
       "       [135.45976636],\n",
       "       [133.23500937],\n",
       "       [134.12491217],\n",
       "       [134.56986357],\n",
       "       [132.34510657],\n",
       "       [134.56986357],\n",
       "       [131.45520378],\n",
       "       [135.45976636],\n",
       "       [126.115787  ],\n",
       "       [131.01025238],\n",
       "       [133.67996077],\n",
       "       [128.78549539],\n",
       "       [129.67539819],\n",
       "       [126.5607384 ],\n",
       "       [127.89559259],\n",
       "       [126.5607384 ],\n",
       "       [132.34510657],\n",
       "       [128.34054399],\n",
       "       [130.12034958],\n",
       "       [130.12034958],\n",
       "       [136.79462056],\n",
       "       [141.24413454],\n",
       "       [126.5607384 ],\n",
       "       [134.12491217],\n",
       "       [130.56530098],\n",
       "       [130.56530098],\n",
       "       [128.78549539],\n",
       "       [134.56986357],\n",
       "       [132.34510657],\n",
       "       [131.90015518],\n",
       "       [125.2258842 ],\n",
       "       [134.56986357],\n",
       "       [141.68908594],\n",
       "       [125.2258842 ],\n",
       "       [125.6708356 ],\n",
       "       [124.7809328 ],\n",
       "       [123.44607861],\n",
       "       [126.5607384 ],\n",
       "       [131.45520378],\n",
       "       [131.01025238],\n",
       "       [135.90471776],\n",
       "       [126.115787  ],\n",
       "       [123.89103001],\n",
       "       [126.5607384 ],\n",
       "       [137.68452335],\n",
       "       [135.01481496],\n",
       "       [138.12947475],\n",
       "       [133.67996077],\n",
       "       [128.78549539],\n",
       "       [131.45520378],\n",
       "       [136.34966916],\n",
       "       [132.79005797],\n",
       "       [131.01025238],\n",
       "       [136.34966916],\n",
       "       [139.46432895],\n",
       "       [133.67996077],\n",
       "       [137.68452335],\n",
       "       [139.01937755],\n",
       "       [133.67996077],\n",
       "       [136.79462056],\n",
       "       [129.67539819],\n",
       "       [129.67539819],\n",
       "       [125.6708356 ],\n",
       "       [135.45976636],\n",
       "       [133.67996077],\n",
       "       [137.23957196],\n",
       "       [134.12491217],\n",
       "       [127.89559259],\n",
       "       [134.56986357],\n",
       "       [124.33598141],\n",
       "       [133.67996077],\n",
       "       [133.67996077],\n",
       "       [128.34054399],\n",
       "       [127.45064119],\n",
       "       [134.12491217],\n",
       "       [133.23500937],\n",
       "       [131.90015518],\n",
       "       [127.45064119],\n",
       "       [131.01025238],\n",
       "       [133.23500937],\n",
       "       [126.115787  ],\n",
       "       [132.79005797],\n",
       "       [132.34510657],\n",
       "       [137.68452335],\n",
       "       [127.0056898 ],\n",
       "       [125.6708356 ],\n",
       "       [137.23957196],\n",
       "       [138.57442615],\n",
       "       [129.67539819],\n",
       "       [128.78549539],\n",
       "       [137.68452335],\n",
       "       [130.12034958],\n",
       "       [132.79005797],\n",
       "       [131.45520378],\n",
       "       [133.23500937],\n",
       "       [136.79462056],\n",
       "       [122.11122441],\n",
       "       [135.01481496],\n",
       "       [136.79462056],\n",
       "       [140.35423174],\n",
       "       [132.34510657],\n",
       "       [133.23500937],\n",
       "       [136.79462056],\n",
       "       [135.45976636],\n",
       "       [135.90471776],\n",
       "       [136.79462056],\n",
       "       [123.89103001],\n",
       "       [132.34510657],\n",
       "       [138.12947475],\n",
       "       [141.24413454],\n",
       "       [128.78549539],\n",
       "       [125.2258842 ],\n",
       "       [135.45976636],\n",
       "       [132.79005797],\n",
       "       [135.01481496],\n",
       "       [135.45976636],\n",
       "       [133.67996077],\n",
       "       [123.44607861],\n",
       "       [124.33598141],\n",
       "       [133.23500937],\n",
       "       [136.34966916],\n",
       "       [128.34054399],\n",
       "       [127.45064119],\n",
       "       [135.90471776],\n",
       "       [130.12034958],\n",
       "       [134.56986357],\n",
       "       [123.89103001],\n",
       "       [133.23500937],\n",
       "       [123.89103001],\n",
       "       [123.44607861],\n",
       "       [123.89103001],\n",
       "       [131.45520378],\n",
       "       [132.34510657]])"
      ]
     },
     "execution_count": 52,
     "metadata": {},
     "output_type": "execute_result"
    }
   ],
   "source": [
    "y_pred\n",
    "     "
   ]
  },
  {
   "cell_type": "code",
   "execution_count": 53,
   "id": "f22a2707",
   "metadata": {},
   "outputs": [],
   "source": [
    "from sklearn.metrics import mean_squared_error"
   ]
  },
  {
   "cell_type": "code",
   "execution_count": 54,
   "id": "ed55ab98",
   "metadata": {},
   "outputs": [
    {
     "data": {
      "text/plain": [
       "323.7041916511183"
      ]
     },
     "execution_count": 54,
     "metadata": {},
     "output_type": "execute_result"
    }
   ],
   "source": [
    "mean_squared_error(y_test,y_pred)"
   ]
  },
  {
   "cell_type": "code",
   "execution_count": 55,
   "id": "83fc291e",
   "metadata": {},
   "outputs": [],
   "source": [
    "#random forest trees"
   ]
  },
  {
   "cell_type": "code",
   "execution_count": 56,
   "id": "c5215405",
   "metadata": {},
   "outputs": [
    {
     "data": {
      "text/plain": [
       "(918, 12)"
      ]
     },
     "execution_count": 56,
     "metadata": {},
     "output_type": "execute_result"
    }
   ],
   "source": [
    "data.shape"
   ]
  },
  {
   "cell_type": "code",
   "execution_count": 57,
   "id": "565d122d",
   "metadata": {},
   "outputs": [],
   "source": [
    "from sklearn.preprocessing import LabelEncoder"
   ]
  },
  {
   "cell_type": "code",
   "execution_count": 58,
   "id": "46682503",
   "metadata": {},
   "outputs": [],
   "source": [
    "le=LabelEncoder()"
   ]
  },
  {
   "cell_type": "code",
   "execution_count": null,
   "id": "d539b4be",
   "metadata": {},
   "outputs": [],
   "source": []
  },
  {
   "cell_type": "code",
   "execution_count": 59,
   "id": "cd71901a",
   "metadata": {},
   "outputs": [
    {
     "data": {
      "text/html": [
       "<div>\n",
       "<style scoped>\n",
       "    .dataframe tbody tr th:only-of-type {\n",
       "        vertical-align: middle;\n",
       "    }\n",
       "\n",
       "    .dataframe tbody tr th {\n",
       "        vertical-align: top;\n",
       "    }\n",
       "\n",
       "    .dataframe thead th {\n",
       "        text-align: right;\n",
       "    }\n",
       "</style>\n",
       "<table border=\"1\" class=\"dataframe\">\n",
       "  <thead>\n",
       "    <tr style=\"text-align: right;\">\n",
       "      <th></th>\n",
       "      <th>Age</th>\n",
       "      <th>Sex</th>\n",
       "      <th>ChestPainType</th>\n",
       "      <th>RestingBP</th>\n",
       "      <th>Cholesterol</th>\n",
       "      <th>FastingBS</th>\n",
       "      <th>RestingECG</th>\n",
       "      <th>MaxHR</th>\n",
       "      <th>ExerciseAngina</th>\n",
       "      <th>Oldpeak</th>\n",
       "      <th>ST_Slope</th>\n",
       "      <th>HeartDisease</th>\n",
       "    </tr>\n",
       "  </thead>\n",
       "  <tbody>\n",
       "    <tr>\n",
       "      <th>0</th>\n",
       "      <td>40</td>\n",
       "      <td>M</td>\n",
       "      <td>1</td>\n",
       "      <td>140</td>\n",
       "      <td>289</td>\n",
       "      <td>0</td>\n",
       "      <td>1</td>\n",
       "      <td>172</td>\n",
       "      <td>0</td>\n",
       "      <td>0.0</td>\n",
       "      <td>2</td>\n",
       "      <td>0</td>\n",
       "    </tr>\n",
       "    <tr>\n",
       "      <th>1</th>\n",
       "      <td>49</td>\n",
       "      <td>F</td>\n",
       "      <td>2</td>\n",
       "      <td>160</td>\n",
       "      <td>180</td>\n",
       "      <td>0</td>\n",
       "      <td>1</td>\n",
       "      <td>156</td>\n",
       "      <td>0</td>\n",
       "      <td>1.0</td>\n",
       "      <td>1</td>\n",
       "      <td>1</td>\n",
       "    </tr>\n",
       "    <tr>\n",
       "      <th>2</th>\n",
       "      <td>37</td>\n",
       "      <td>M</td>\n",
       "      <td>1</td>\n",
       "      <td>130</td>\n",
       "      <td>283</td>\n",
       "      <td>0</td>\n",
       "      <td>2</td>\n",
       "      <td>98</td>\n",
       "      <td>0</td>\n",
       "      <td>0.0</td>\n",
       "      <td>2</td>\n",
       "      <td>0</td>\n",
       "    </tr>\n",
       "    <tr>\n",
       "      <th>3</th>\n",
       "      <td>48</td>\n",
       "      <td>F</td>\n",
       "      <td>0</td>\n",
       "      <td>138</td>\n",
       "      <td>214</td>\n",
       "      <td>0</td>\n",
       "      <td>1</td>\n",
       "      <td>108</td>\n",
       "      <td>1</td>\n",
       "      <td>1.5</td>\n",
       "      <td>1</td>\n",
       "      <td>1</td>\n",
       "    </tr>\n",
       "    <tr>\n",
       "      <th>4</th>\n",
       "      <td>54</td>\n",
       "      <td>M</td>\n",
       "      <td>2</td>\n",
       "      <td>150</td>\n",
       "      <td>195</td>\n",
       "      <td>0</td>\n",
       "      <td>1</td>\n",
       "      <td>122</td>\n",
       "      <td>0</td>\n",
       "      <td>0.0</td>\n",
       "      <td>2</td>\n",
       "      <td>0</td>\n",
       "    </tr>\n",
       "  </tbody>\n",
       "</table>\n",
       "</div>"
      ],
      "text/plain": [
       "   Age Sex  ChestPainType  RestingBP  Cholesterol  FastingBS  RestingECG  \\\n",
       "0   40   M              1        140          289          0           1   \n",
       "1   49   F              2        160          180          0           1   \n",
       "2   37   M              1        130          283          0           2   \n",
       "3   48   F              0        138          214          0           1   \n",
       "4   54   M              2        150          195          0           1   \n",
       "\n",
       "   MaxHR  ExerciseAngina  Oldpeak  ST_Slope  HeartDisease  \n",
       "0    172               0      0.0         2             0  \n",
       "1    156               0      1.0         1             1  \n",
       "2     98               0      0.0         2             0  \n",
       "3    108               1      1.5         1             1  \n",
       "4    122               0      0.0         2             0  "
      ]
     },
     "execution_count": 59,
     "metadata": {},
     "output_type": "execute_result"
    }
   ],
   "source": [
    "data.ChestPainType = le.fit_transform(data.ChestPainType)\n",
    "data.RestingECG = le.fit_transform(data.RestingECG)\n",
    "data.ExerciseAngina = le.fit_transform(data.ExerciseAngina)\n",
    "data.ST_Slope = le.fit_transform(data.ST_Slope)\n",
    "data.head()\n",
    "     "
   ]
  },
  {
   "cell_type": "code",
   "execution_count": 60,
   "id": "20e05078",
   "metadata": {},
   "outputs": [
    {
     "data": {
      "text/plain": [
       "<bound method DataFrame.info of      Age Sex  ChestPainType  RestingBP  Cholesterol  FastingBS  RestingECG  \\\n",
       "0     40   M              1        140          289          0           1   \n",
       "1     49   F              2        160          180          0           1   \n",
       "2     37   M              1        130          283          0           2   \n",
       "3     48   F              0        138          214          0           1   \n",
       "4     54   M              2        150          195          0           1   \n",
       "..   ...  ..            ...        ...          ...        ...         ...   \n",
       "913   45   M              3        110          264          0           1   \n",
       "914   68   M              0        144          193          1           1   \n",
       "915   57   M              0        130          131          0           1   \n",
       "916   57   F              1        130          236          0           0   \n",
       "917   38   M              2        138          175          0           1   \n",
       "\n",
       "     MaxHR  ExerciseAngina  Oldpeak  ST_Slope  HeartDisease  \n",
       "0      172               0      0.0         2             0  \n",
       "1      156               0      1.0         1             1  \n",
       "2       98               0      0.0         2             0  \n",
       "3      108               1      1.5         1             1  \n",
       "4      122               0      0.0         2             0  \n",
       "..     ...             ...      ...       ...           ...  \n",
       "913    132               0      1.2         1             1  \n",
       "914    141               0      3.4         1             1  \n",
       "915    115               1      1.2         1             1  \n",
       "916    174               0      0.0         1             1  \n",
       "917    173               0      0.0         2             0  \n",
       "\n",
       "[918 rows x 12 columns]>"
      ]
     },
     "execution_count": 60,
     "metadata": {},
     "output_type": "execute_result"
    }
   ],
   "source": [
    "data.info\n"
   ]
  },
  {
   "cell_type": "code",
   "execution_count": 61,
   "id": "18b8d5d9",
   "metadata": {},
   "outputs": [],
   "source": [
    "x_train,x_test,y_train,y_test=train_test_split(x,y,test_size=0.3,random_state=0)\n",
    "     "
   ]
  },
  {
   "cell_type": "code",
   "execution_count": 62,
   "id": "a0cdfda9",
   "metadata": {},
   "outputs": [
    {
     "name": "stdout",
     "output_type": "stream",
     "text": [
      "x_train (642, 1)\n"
     ]
    }
   ],
   "source": [
    "print('x_train',x_train.shape)"
   ]
  },
  {
   "cell_type": "code",
   "execution_count": 63,
   "id": "84cff19f",
   "metadata": {},
   "outputs": [
    {
     "name": "stdout",
     "output_type": "stream",
     "text": [
      "x_test (276, 1)\n"
     ]
    }
   ],
   "source": [
    "print('x_test',x_test.shape)\n"
   ]
  },
  {
   "cell_type": "code",
   "execution_count": 64,
   "id": "2fbedd70",
   "metadata": {},
   "outputs": [
    {
     "name": "stdout",
     "output_type": "stream",
     "text": [
      "y_train (642, 1)\n"
     ]
    }
   ],
   "source": [
    "print('y_train',y_train.shape)"
   ]
  },
  {
   "cell_type": "code",
   "execution_count": 65,
   "id": "4296bcf4",
   "metadata": {},
   "outputs": [
    {
     "name": "stdout",
     "output_type": "stream",
     "text": [
      "y_test (276, 1)\n"
     ]
    }
   ],
   "source": [
    "print('y_test',y_test.shape)\n",
    "     \n"
   ]
  },
  {
   "cell_type": "code",
   "execution_count": 66,
   "id": "aa9c2d45",
   "metadata": {},
   "outputs": [],
   "source": [
    "from sklearn.ensemble import RandomForestClassifier"
   ]
  },
  {
   "cell_type": "code",
   "execution_count": 109,
   "id": "53542db4",
   "metadata": {},
   "outputs": [],
   "source": [
    "classifier=RandomForestClassifier(n_estimators=5,criterion='entropy',random_state=0)"
   ]
  },
  {
   "cell_type": "code",
   "execution_count": 133,
   "id": "6da63012",
   "metadata": {},
   "outputs": [
    {
     "name": "stderr",
     "output_type": "stream",
     "text": [
      "C:\\Users\\HP\\AppData\\Local\\Temp\\ipykernel_29420\\1220691014.py:1: DataConversionWarning: A column-vector y was passed when a 1d array was expected. Please change the shape of y to (n_samples,), for example using ravel().\n",
      "  classifier.fit(x_train, y_train)\n"
     ]
    },
    {
     "data": {
      "text/plain": [
       "RandomForestClassifier(n_estimators=7, random_state=0)"
      ]
     },
     "execution_count": 133,
     "metadata": {},
     "output_type": "execute_result"
    }
   ],
   "source": [
    "classifier.fit(x_train, y_train) "
   ]
  },
  {
   "cell_type": "code",
   "execution_count": 111,
   "id": "4d3dc8b9",
   "metadata": {},
   "outputs": [],
   "source": [
    "y_pred=classifier.predict(x_test)"
   ]
  },
  {
   "cell_type": "code",
   "execution_count": 112,
   "id": "478b2215",
   "metadata": {},
   "outputs": [
    {
     "data": {
      "text/plain": [
       "array([140, 150, 130, 140, 120, 130, 140, 120, 120, 130, 140, 150, 140,\n",
       "       120, 120, 140, 120, 130, 130, 120, 130, 120, 130, 140, 130, 130,\n",
       "       140, 120, 120, 120, 140, 120, 120, 120, 125, 120, 130, 120, 130,\n",
       "       120, 130, 140, 120, 115, 150, 130, 118, 120, 120, 140, 130, 130,\n",
       "       150, 130, 120, 130, 120, 150, 130, 120, 130, 120, 140, 140, 130,\n",
       "       130, 130, 140, 140, 130, 120, 130, 130, 145, 120, 130, 130, 120,\n",
       "       120, 130, 130, 130, 120, 110, 140, 130, 130, 120, 150, 140, 120,\n",
       "       140, 120, 130, 130, 120, 110, 120, 140, 140, 140, 130, 140, 130,\n",
       "       130, 130, 120, 120, 130, 140, 130, 120, 120, 140, 120, 130, 130,\n",
       "       130, 140, 120, 130, 120, 130, 130, 120, 130, 130, 130, 115, 120,\n",
       "       120, 140, 140, 130, 160, 130, 130, 120, 120, 120, 118, 150, 140,\n",
       "       120, 140, 140, 130, 150, 120, 120, 120, 112, 130, 110, 130, 120,\n",
       "       130, 130, 130, 120, 140, 130, 150, 150, 140, 140, 120, 115, 130,\n",
       "       140, 130, 140, 130, 130, 130, 130, 130, 120, 112, 130, 150, 140,\n",
       "       130, 130, 145, 120, 150, 150, 140, 120, 130, 120, 150, 130, 130,\n",
       "       130, 130, 140, 130, 130, 130, 120, 120, 110, 140, 130, 130, 130,\n",
       "       140, 130, 130, 130, 120, 120, 140, 120, 130, 120, 120, 120, 130,\n",
       "       140, 120, 140, 140, 130, 130, 130, 130, 120, 120, 130, 130, 130,\n",
       "       150, 130, 140, 110, 130, 140, 130, 120, 120, 120, 130, 120, 130,\n",
       "       120, 120, 130, 140, 140, 130, 130, 130, 140, 140, 120, 150, 130,\n",
       "       130, 120, 150, 130, 140, 120, 120, 130, 120, 150, 120, 120, 120,\n",
       "       120, 120, 110], dtype=int64)"
      ]
     },
     "execution_count": 112,
     "metadata": {},
     "output_type": "execute_result"
    }
   ],
   "source": [
    "y_pred"
   ]
  },
  {
   "cell_type": "code",
   "execution_count": 113,
   "id": "36f181eb",
   "metadata": {},
   "outputs": [],
   "source": [
    "from sklearn.metrics import confusion_matrix\n",
    "from sklearn.metrics import classification_report,accuracy_score\n",
    "     "
   ]
  },
  {
   "cell_type": "code",
   "execution_count": 114,
   "id": "cfd239d1",
   "metadata": {},
   "outputs": [
    {
     "name": "stdout",
     "output_type": "stream",
     "text": [
      "[[0 0 0 ... 0 0 0]\n",
      " [0 0 0 ... 0 0 0]\n",
      " [0 0 0 ... 0 0 0]\n",
      " ...\n",
      " [0 0 0 ... 0 0 0]\n",
      " [0 0 0 ... 0 0 0]\n",
      " [0 0 0 ... 0 0 0]]\n"
     ]
    }
   ],
   "source": [
    "cm=confusion_matrix(y_test,y_pred)\n",
    "print(cm)"
   ]
  },
  {
   "cell_type": "code",
   "execution_count": null,
   "id": "005d3394",
   "metadata": {},
   "outputs": [],
   "source": []
  },
  {
   "cell_type": "code",
   "execution_count": 127,
   "id": "bc2311c9",
   "metadata": {},
   "outputs": [
    {
     "data": {
      "text/plain": [
       "0.15217391304347827"
      ]
     },
     "execution_count": 127,
     "metadata": {},
     "output_type": "execute_result"
    }
   ],
   "source": [
    "accuracy_score(y_test,y_pred)"
   ]
  },
  {
   "cell_type": "code",
   "execution_count": 128,
   "id": "8d4a353c",
   "metadata": {},
   "outputs": [
    {
     "name": "stdout",
     "output_type": "stream",
     "text": [
      "              precision    recall  f1-score   support\n",
      "\n",
      "          95       0.00      0.00      0.00         1\n",
      "          98       0.00      0.00      0.00         1\n",
      "         100       0.00      0.00      0.00         7\n",
      "         101       0.00      0.00      0.00         1\n",
      "         102       0.00      0.00      0.00         1\n",
      "         105       0.00      0.00      0.00         3\n",
      "         106       0.00      0.00      0.00         2\n",
      "         110       0.17      0.05      0.08        20\n",
      "         112       0.00      0.00      0.00         6\n",
      "         114       0.00      0.00      0.00         1\n",
      "         115       0.00      0.00      0.00        10\n",
      "         116       0.00      0.00      0.00         2\n",
      "         118       0.00      0.00      0.00         6\n",
      "         120       0.19      0.46      0.27        35\n",
      "         122       0.00      0.00      0.00         5\n",
      "         123       0.00      0.00      0.00         1\n",
      "         124       0.00      0.00      0.00         4\n",
      "         125       0.00      0.00      0.00        11\n",
      "         128       0.00      0.00      0.00         2\n",
      "         130       0.17      0.50      0.26        36\n",
      "         131       0.00      0.00      0.00         1\n",
      "         132       0.00      0.00      0.00         7\n",
      "         134       0.00      0.00      0.00         2\n",
      "         135       0.00      0.00      0.00         5\n",
      "         136       0.00      0.00      0.00         4\n",
      "         137       0.00      0.00      0.00         2\n",
      "         138       0.00      0.00      0.00         6\n",
      "         139       0.00      0.00      0.00         1\n",
      "         140       0.12      0.20      0.15        30\n",
      "         142       0.00      0.00      0.00         1\n",
      "         143       0.00      0.00      0.00         2\n",
      "         144       0.00      0.00      0.00         4\n",
      "         145       0.00      0.00      0.00         6\n",
      "         146       0.00      0.00      0.00         2\n",
      "         148       0.00      0.00      0.00         1\n",
      "         150       0.06      0.08      0.06        13\n",
      "         152       0.00      0.00      0.00         3\n",
      "         154       0.00      0.00      0.00         1\n",
      "         155       0.00      0.00      0.00         4\n",
      "         158       0.00      0.00      0.00         2\n",
      "         160       0.00      0.00      0.00        15\n",
      "         165       0.00      0.00      0.00         1\n",
      "         170       0.00      0.00      0.00         2\n",
      "         172       0.00      0.00      0.00         1\n",
      "         178       0.00      0.00      0.00         1\n",
      "         180       0.00      0.00      0.00         1\n",
      "         185       0.00      0.00      0.00         1\n",
      "         200       0.00      0.00      0.00         2\n",
      "\n",
      "    accuracy                           0.15       276\n",
      "   macro avg       0.01      0.03      0.02       276\n",
      "weighted avg       0.07      0.15      0.09       276\n",
      "\n"
     ]
    },
    {
     "name": "stderr",
     "output_type": "stream",
     "text": [
      "C:\\Users\\HP\\anaconda3\\lib\\site-packages\\sklearn\\metrics\\_classification.py:1318: UndefinedMetricWarning: Precision and F-score are ill-defined and being set to 0.0 in labels with no predicted samples. Use `zero_division` parameter to control this behavior.\n",
      "  _warn_prf(average, modifier, msg_start, len(result))\n",
      "C:\\Users\\HP\\anaconda3\\lib\\site-packages\\sklearn\\metrics\\_classification.py:1318: UndefinedMetricWarning: Precision and F-score are ill-defined and being set to 0.0 in labels with no predicted samples. Use `zero_division` parameter to control this behavior.\n",
      "  _warn_prf(average, modifier, msg_start, len(result))\n",
      "C:\\Users\\HP\\anaconda3\\lib\\site-packages\\sklearn\\metrics\\_classification.py:1318: UndefinedMetricWarning: Precision and F-score are ill-defined and being set to 0.0 in labels with no predicted samples. Use `zero_division` parameter to control this behavior.\n",
      "  _warn_prf(average, modifier, msg_start, len(result))\n"
     ]
    }
   ],
   "source": [
    "print(classification_report(y_test,y_pred))\n",
    "     "
   ]
  },
  {
   "cell_type": "code",
   "execution_count": 117,
   "id": "3ec57e67",
   "metadata": {},
   "outputs": [],
   "source": [
    "from sklearn.ensemble import RandomForestClassifier\n",
    "     "
   ]
  },
  {
   "cell_type": "code",
   "execution_count": 118,
   "id": "4dd63f6c",
   "metadata": {},
   "outputs": [],
   "source": [
    "classifier=RandomForestClassifier(n_estimators=7,criterion='gini',random_state=0)\n",
    "     \n"
   ]
  },
  {
   "cell_type": "code",
   "execution_count": 119,
   "id": "781017f4",
   "metadata": {},
   "outputs": [
    {
     "name": "stderr",
     "output_type": "stream",
     "text": [
      "C:\\Users\\HP\\AppData\\Local\\Temp\\ipykernel_29420\\1207331185.py:1: DataConversionWarning: A column-vector y was passed when a 1d array was expected. Please change the shape of y to (n_samples,), for example using ravel().\n",
      "  classifier.fit(x_train,y_train)\n"
     ]
    },
    {
     "data": {
      "text/plain": [
       "RandomForestClassifier(n_estimators=7, random_state=0)"
      ]
     },
     "execution_count": 119,
     "metadata": {},
     "output_type": "execute_result"
    }
   ],
   "source": [
    "classifier.fit(x_train,y_train)"
   ]
  },
  {
   "cell_type": "code",
   "execution_count": 120,
   "id": "4b2e413d",
   "metadata": {},
   "outputs": [
    {
     "data": {
      "text/plain": [
       "0.15217391304347827"
      ]
     },
     "execution_count": 120,
     "metadata": {},
     "output_type": "execute_result"
    }
   ],
   "source": [
    "accuracy_score(y_test,y_pred)"
   ]
  },
  {
   "cell_type": "code",
   "execution_count": null,
   "id": "fb112949",
   "metadata": {},
   "outputs": [],
   "source": [
    "#knn classifier"
   ]
  },
  {
   "cell_type": "code",
   "execution_count": 146,
   "id": "1c202ed8",
   "metadata": {},
   "outputs": [
    {
     "name": "stderr",
     "output_type": "stream",
     "text": [
      "C:\\Users\\HP\\anaconda3\\lib\\site-packages\\sklearn\\neighbors\\_classification.py:198: DataConversionWarning: A column-vector y was passed when a 1d array was expected. Please change the shape of y to (n_samples,), for example using ravel().\n",
      "  return self._fit(X, y)\n"
     ]
    },
    {
     "data": {
      "text/plain": [
       "KNeighborsClassifier(n_neighbors=10)"
      ]
     },
     "execution_count": 146,
     "metadata": {},
     "output_type": "execute_result"
    }
   ],
   "source": [
    "from sklearn.neighbors import KNeighborsClassifier\n",
    "knn = KNeighborsClassifier(n_neighbors=10)\n",
    "knn.fit(x_train, y_train)\n"
   ]
  },
  {
   "cell_type": "code",
   "execution_count": 147,
   "id": "deb0cd07",
   "metadata": {},
   "outputs": [
    {
     "name": "stderr",
     "output_type": "stream",
     "text": [
      "C:\\Users\\HP\\anaconda3\\lib\\site-packages\\sklearn\\neighbors\\_classification.py:228: FutureWarning: Unlike other reduction functions (e.g. `skew`, `kurtosis`), the default behavior of `mode` typically preserves the axis it acts along. In SciPy 1.11.0, this behavior will change: the default value of `keepdims` will become False, the `axis` over which the statistic is taken will be eliminated, and the value None will no longer be accepted. Set `keepdims` to True or False to avoid this warning.\n",
      "  mode, _ = stats.mode(_y[neigh_ind, k], axis=1)\n"
     ]
    },
    {
     "data": {
      "text/plain": [
       "0.10144927536231885"
      ]
     },
     "execution_count": 147,
     "metadata": {},
     "output_type": "execute_result"
    }
   ],
   "source": [
    "knn.score(x_test,y_test)"
   ]
  },
  {
   "cell_type": "code",
   "execution_count": 148,
   "id": "19c92ccc",
   "metadata": {},
   "outputs": [
    {
     "name": "stderr",
     "output_type": "stream",
     "text": [
      "C:\\Users\\HP\\anaconda3\\lib\\site-packages\\sklearn\\neighbors\\_classification.py:228: FutureWarning: Unlike other reduction functions (e.g. `skew`, `kurtosis`), the default behavior of `mode` typically preserves the axis it acts along. In SciPy 1.11.0, this behavior will change: the default value of `keepdims` will become False, the `axis` over which the statistic is taken will be eliminated, and the value None will no longer be accepted. Set `keepdims` to True or False to avoid this warning.\n",
      "  mode, _ = stats.mode(_y[neigh_ind, k], axis=1)\n"
     ]
    },
    {
     "data": {
      "text/plain": [
       "array([[0, 0, 0, ..., 0, 0, 0],\n",
       "       [0, 0, 0, ..., 0, 0, 0],\n",
       "       [0, 0, 0, ..., 0, 0, 0],\n",
       "       ...,\n",
       "       [0, 0, 0, ..., 0, 0, 0],\n",
       "       [0, 1, 0, ..., 0, 0, 0],\n",
       "       [0, 0, 0, ..., 0, 0, 0]], dtype=int64)"
      ]
     },
     "execution_count": 148,
     "metadata": {},
     "output_type": "execute_result"
    }
   ],
   "source": [
    "y_pred=knn.predict(x_test)\n",
    "cm=confusion_matrix(y_test,y_pred)\n",
    "cm"
   ]
  },
  {
   "cell_type": "code",
   "execution_count": null,
   "id": "5f54d82f",
   "metadata": {},
   "outputs": [],
   "source": []
  },
  {
   "cell_type": "code",
   "execution_count": null,
   "id": "f9fcf144",
   "metadata": {},
   "outputs": [],
   "source": []
  },
  {
   "cell_type": "code",
   "execution_count": null,
   "id": "8b8498ae",
   "metadata": {},
   "outputs": [],
   "source": []
  },
  {
   "cell_type": "code",
   "execution_count": null,
   "id": "d48c86ce",
   "metadata": {},
   "outputs": [],
   "source": []
  }
 ],
 "metadata": {
  "kernelspec": {
   "display_name": "Python 3 (ipykernel)",
   "language": "python",
   "name": "python3"
  },
  "language_info": {
   "codemirror_mode": {
    "name": "ipython",
    "version": 3
   },
   "file_extension": ".py",
   "mimetype": "text/x-python",
   "name": "python",
   "nbconvert_exporter": "python",
   "pygments_lexer": "ipython3",
   "version": "3.9.13"
  }
 },
 "nbformat": 4,
 "nbformat_minor": 5
}
